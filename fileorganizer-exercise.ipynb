{
 "cells": [
  {
   "cell_type": "markdown",
   "source": [
    "Nella cartella *files* sono presenti 8 file:\n",
    "- 2 file di testo\n",
    "- 2 file audio\n",
    "- 4 immagini,\n",
    "\n",
    "con varie estensioni.\n",
    "\n",
    "**Step 1**\n",
    "\n",
    "Ho iniziato creando, in un notebook, uno script Python che iteri in ordine alfabetico sui file della cartella files e, a seconda del tipo (audio, documento, immagine), li sposti nella relativa sottocartella (qui sotto trovi un esempio). Se la sottocartella non esiste, lo script dovrà crearla automaticamente.\n",
    "\n",
    "Durante il ciclo, lo script stampa le informazioni dei file: nome, tipo e dimensione in byte. Questo è l'output desiderato:"
   ],
   "metadata": {
    "collapsed": false
   }
  },
  {
   "cell_type": "code",
   "execution_count": 2,
   "metadata": {},
   "outputs": [
    {
     "name": "stdout",
     "output_type": "stream",
     "text": [
      "song1 type:audio size:1087849B\n",
      "ciao type:doc size:12B\n",
      "song2 type:audio size:764176B\n",
      "daffodil type:image size:24657B\n",
      "trump type:image size:10195B\n",
      "bw type:image size:94926B\n",
      "pippo type:doc size:8299B\n",
      "eclipse type:image size:64243B\n"
     ]
    }
   ],
   "source": [
    "import os\n",
    "import fnmatch\n",
    "import shutil\n",
    "from os import path\n",
    "import csv\n",
    "import numpy as np\n",
    "\n",
    "#metodo che crea la sotto-cartella se non esiste e sposta il file nella sotto-cartella\n",
    "def move_file_create_folder(a_file, name_folder, type_name):\n",
    "    file_size = os.path.getsize('files/' + a_file)\n",
    "    if not os.path.exists('files/' + name_folder):\n",
    "        os.mkdir('files/' + name_folder)\n",
    "    shutil.move('files/' + file, 'files/' + name_folder + '/' + file)\n",
    "    #stampa in console i dettagli del file\n",
    "    print(os.path.splitext(a_file)[0] + ' type:' + type_name + ' size:' + str(file_size) + 'B')\n",
    "    row_csv= np.array([os.path.splitext(a_file)[0], type_name, str(file_size)])\n",
    "    #inserisce i dati del file nel csv\n",
    "    with open(\"files/recap.csv\",\"a\") as fd:\n",
    "        writer = csv.writer(fd)\n",
    "        writer.writerow(row_csv)\n",
    "        fd.close()\n",
    "\n",
    "\n",
    "#controlla se esiste il csv recap\n",
    "if not path.isfile('files/recap.csv'):\n",
    "    #se non esiste, viene creato e viene inserito la prima riga: l'header\n",
    "    data_header= [\"name\", \"type\", \"size(B)\"]\n",
    "    with open(\"files/recap.csv\", \"w\") as csv_file:\n",
    "        writer_csv= csv.writer(csv_file)\n",
    "        writer_csv.writerow(data_header)\n",
    "        csv_file.close()\n",
    "\n",
    "#ciclo su i file presenti nella cartella files\n",
    "files = os.listdir('files/')\n",
    "for file in files:\n",
    "    #controlla se è un file o una cartella, se è un file entra nel blocco if\n",
    "    if path.isfile('files/' + file):\n",
    "        #if innestati per poter spostare il file nella giusta sotto-cartella in base al suo tipo\n",
    "        if fnmatch.fnmatch(file, '*.mp3'):\n",
    "            move_file_create_folder(file, 'audio', 'audio')\n",
    "        if fnmatch.fnmatch(file, '*.txt') or fnmatch.fnmatch(file, '*.odt'):\n",
    "            move_file_create_folder(file, 'docs', 'doc')\n",
    "        if fnmatch.fnmatch(file, '*.png') or fnmatch.fnmatch(file, '*.jpeg') or fnmatch.fnmatch(file, '*.jpg'):\n",
    "            move_file_create_folder(file, 'images', 'image')\n"
   ]
  },
  {
   "cell_type": "markdown",
   "source": [
    "Oltre a stamparne le informazioni via via che li sposti, si tiene traccia dei file creando un documento *recap.csv* con le stesse informazioni. Di seguito un esempio in questa cartella.\n",
    "\n",
    "La struttura finale della cartella files dovrà essere:\n",
    "\n",
    "        - files            \n",
    "            - audio\n",
    "                - song1.mp3\n",
    "                - song2.mp3\n",
    "            - docs\n",
    "                - ciao.txt\n",
    "                - pippo.odt\n",
    "            - images\n",
    "                - bw.png\n",
    "                - daffodil.jpg\n",
    "                - eclipse.png\n",
    "                - trump.jpeg    \n",
    "            - recap.csv\n",
    "                \n",
    "---"
   ],
   "metadata": {
    "collapsed": false
   }
  },
  {
   "cell_type": "markdown",
   "metadata": {},
   "source": [
    "**Step 2**\n",
    "\n",
    "Ho inserito lo script creato in un piccolo eseguibile (chiamalo *addfile.py*) dotato di *interfaccia a linea di comando* (CLI).\n",
    "\n",
    "Lo scopo dell'eseguibile è spostare un *singolo* file (che si trova nella cartella files) nella sottocartella di competenza, aggiornando il recap.\n",
    "\n",
    "L'interfaccia dell'eseguibile ha come unico argomento (obbligatorio) il nome del file da spostare (comprensivo di formato, es: 'trump.jpeg'). Nel caso in cui il file passato come argomento non esista, l'interfaccia deve comunicarlo all'utente.\n",
    "\n",
    "---"
   ]
  },
  {
   "cell_type": "markdown",
   "metadata": {},
   "source": [
    "**Step 3**\n",
    "\n",
    "Una immagine in scala di grigio ha un solo livello di colore, una RGB ne ha 3, una RGBA 4 (l'ultimo è detto canale *alpha*).\n",
    "\n",
    "Il modulo *Image* della libreria *PIL* permette di caricare un'immagine, che può essere trasformata in un array NumPy attraverso la funzione *np.array*. A partire da tale array, è possibile capire se l'immagine caricata è in scala di grigio, RGB o RGBA.\n",
    "\n",
    "é stato aggiunto al notebook dello Step 1 uno script che iteri sulla sottocartella *images* e costruisca una tabella riassuntiva come questa (prodotta con la libreria *tabulate*):"
   ]
  },
  {
   "cell_type": "code",
   "execution_count": 6,
   "metadata": {},
   "outputs": [
    {
     "name": "stdout",
     "output_type": "stream",
     "text": [
      "╒══════════════╤══════════╤═════════╤═════════════╤════════╤════════╤═══════╤═════════╕\n",
      "│ name         │   height │   width │   grayscale │      R │      G │     B │   ALPHA │\n",
      "╞══════════════╪══════════╪═════════╪═════════════╪════════╪════════╪═══════╪═════════╡\n",
      "│ daffodil.jpg │      500 │     335 │        0    │ 109.23 │  85.52 │  4.77 │    0    │\n",
      "├──────────────┼──────────┼─────────┼─────────────┼────────┼────────┼───────┼─────────┤\n",
      "│ trump.jpeg   │      183 │     275 │        0    │  97.01 │  98.99 │ 90.92 │    0    │\n",
      "├──────────────┼──────────┼─────────┼─────────────┼────────┼────────┼───────┼─────────┤\n",
      "│ bw.png       │      512 │     512 │       21.48 │   0    │   0    │  0    │    0    │\n",
      "├──────────────┼──────────┼─────────┼─────────────┼────────┼────────┼───────┼─────────┤\n",
      "│ eclipse.png  │      256 │     256 │        0    │ 109.05 │ 109.52 │ 39.85 │  133.59 │\n",
      "╘══════════════╧══════════╧═════════╧═════════════╧════════╧════════╧═══════╧═════════╛\n"
     ]
    }
   ],
   "source": [
    "import numpy as np\n",
    "from PIL import Image\n",
    "from tabulate import tabulate\n",
    "import os\n",
    "\n",
    "#creo l'array inserendo l'header della tabella\n",
    "dataTable = np.array([[\"name\", \"height\", \"width\", \"grayscale\", \"R\", \"G\", \"B\", \"ALPHA\"]])\n",
    "files = os.listdir('files/images/')\n",
    "#ciclo tutti file presenti nella sotto-cartella images\n",
    "for file in files:\n",
    "    #uso PIL per poter utilizzare l'immagine\n",
    "    image = Image.open(\"files/images/\" + file)\n",
    "    #trasformo l'immagine in un array\n",
    "    imageToArray = np.asarray(image)\n",
    "    #recupero altezza e larghezza\n",
    "    heightImage = image.height\n",
    "    widthImage = image.width\n",
    "    #inizializzo le variabili che memorizzeranno RGB, la scala dei grigi e opacità\n",
    "    grayScaleImage = 0\n",
    "    rColorImage = 0\n",
    "    gColorImage = 0\n",
    "    bColorImage = 0\n",
    "    alphaColorImage = 0\n",
    "    #controllo la dimensione dell'immagine se sono 2 allora ha solo la scala dei grigi\n",
    "    if imageToArray.ndim == 2:\n",
    "        grayScale= np.mean(imageToArray)\n",
    "        grayScaleImage = round(grayScale, 2)\n",
    "    else:\n",
    "        #creo una lista di valori medi per ottenere l'RGB\n",
    "        mean_rgb= np.mean(imageToArray, axis=(0,1))\n",
    "        #memorizzo i valori RGB\n",
    "        rColorImage = round(mean_rgb[0], 2)\n",
    "        gColorImage = round(mean_rgb[1], 2)\n",
    "        bColorImage = round(mean_rgb[2], 2)\n",
    "        #se la lunghezza dei valori medi è 4 allora è presente l'opacità che deve essere memorizzata\n",
    "        if len(mean_rgb) == 4:\n",
    "            alphaColorImage = round(mean_rgb[3], 2)\n",
    "    #per ogni immagine creo una riga nell'array dataTable per salvare tutti i dati richiesti\n",
    "    dataTable = np.append(dataTable, [file, str(heightImage), str(widthImage), str(grayScaleImage) , str(rColorImage), str(gColorImage), str(bColorImage), str(alphaColorImage)])\n",
    "#faccio un reshape dell'array per poter sfruttare la libreria tabulate\n",
    "dataTable = np.reshape(dataTable, (len(files) + 1 ,8))\n",
    "print(tabulate(dataTable, headers=\"firstrow\",tablefmt='fancy_grid'))"
   ]
  },
  {
   "cell_type": "markdown",
   "metadata": {},
   "source": [
    "Oltre al nome del file, la tabella riporta:\n",
    "\n",
    "- altezza dell'immagine, in pixel\n",
    "- larghezza dell'immagine, in pixel\n",
    "- se l'immagine è in scala di grigio, la colonna *grayscale* indica la media dei valori dell'unico livello di colore\n",
    "- se l'immagine è a colori, le altre colonne indicano la media dei valori di ogni livello di colore.\n",
    "\n",
    "---"
   ]
  },
  {
   "cell_type": "code",
   "execution_count": null,
   "outputs": [],
   "source": [],
   "metadata": {
    "collapsed": false
   }
  }
 ],
 "metadata": {
  "kernelspec": {
   "display_name": "Python 3 (ipykernel)",
   "language": "python",
   "name": "python3"
  },
  "language_info": {
   "codemirror_mode": {
    "name": "ipython",
    "version": 3
   },
   "file_extension": ".py",
   "mimetype": "text/x-python",
   "name": "python",
   "nbconvert_exporter": "python",
   "pygments_lexer": "ipython3",
   "version": "3.9.13"
  }
 },
 "nbformat": 4,
 "nbformat_minor": 2
}
